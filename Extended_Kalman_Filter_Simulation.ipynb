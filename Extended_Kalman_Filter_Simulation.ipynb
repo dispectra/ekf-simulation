{
  "nbformat": 4,
  "nbformat_minor": 0,
  "metadata": {
    "colab": {
      "name": "Extended Kalman Filter Simulation.ipynb",
      "provenance": [],
      "authorship_tag": "ABX9TyMAK5cHN2e2M0ni4O5ZeMrU",
      "include_colab_link": true
    },
    "kernelspec": {
      "name": "python3",
      "display_name": "Python 3"
    },
    "language_info": {
      "name": "python"
    }
  },
  "cells": [
    {
      "cell_type": "markdown",
      "metadata": {
        "id": "view-in-github",
        "colab_type": "text"
      },
      "source": [
        "<a href=\"https://colab.research.google.com/github/dispectra/ekf-simulation/blob/main/Extended_Kalman_Filter_Simulation.ipynb\" target=\"_parent\"><img src=\"https://colab.research.google.com/assets/colab-badge.svg\" alt=\"Open In Colab\"/></a>"
      ]
    },
    {
      "cell_type": "markdown",
      "metadata": {
        "id": "2KO5s9djJTXm"
      },
      "source": [
        "**Extended Kalman Filter Simulation**\n",
        "</br>\n",
        "\n",
        "---\n",
        "This notebook is created by Dimas Apeco Putra (github.com/dispectra).\n",
        "Major part of this notebook refers to [this source](https://github.com/AtsushiSakai/PythonRobotics/tree/master/Localization/extended_kalman_filter)."
      ]
    },
    {
      "cell_type": "markdown",
      "metadata": {
        "id": "lnnj51hKJFK5"
      },
      "source": [
        "### Utilities Library"
      ]
    },
    {
      "cell_type": "code",
      "metadata": {
        "id": "rVvRngzS7qPZ"
      },
      "source": [
        "# Import Utilities Library\n",
        "import math\n",
        "import matplotlib.pyplot as plt\n",
        "import numpy as np\n",
        "from scipy.spatial.transform import Rotation as Rot"
      ],
      "execution_count": 1,
      "outputs": []
    },
    {
      "cell_type": "markdown",
      "metadata": {
        "id": "opApApciEpp-"
      },
      "source": [
        "### Simulation Parameter"
      ]
    },
    {
      "cell_type": "code",
      "metadata": {
        "id": "OCMcUIFA9E3s"
      },
      "source": [
        "#  Simulation parameter\n",
        "DT = 0.1  # time tick [s]\n",
        "SIM_TIME = 50.0  # simulation time [s]\n",
        "\n",
        "show_live_plot = False"
      ],
      "execution_count": 2,
      "outputs": []
    },
    {
      "cell_type": "markdown",
      "metadata": {
        "id": "5pr63hYrcpzX"
      },
      "source": [
        "#### Covariance matrices"
      ]
    },
    {
      "cell_type": "markdown",
      "metadata": {
        "id": "iLHBG0lY8Gbs"
      },
      "source": [
        "$Q$ is covariance matrix of process noise, \n",
        "\n",
        "$R$ is covariance matrix of observation noise at time $t$ "
      ]
    },
    {
      "cell_type": "code",
      "metadata": {
        "id": "yj74VhP67oul"
      },
      "source": [
        "# Q : covariance matrix of process noise\n",
        "Q = np.diag([\n",
        "             0.1,  # variance of location on x-axis\n",
        "             0.1,  # variance of location on y-axis\n",
        "             np.deg2rad(1.0),  # variance of yaw angle\n",
        "             1.0  # variance of velocity\n",
        "             ]) ** 2\n",
        "\n",
        "# R : covariance matrix of observation noise at time  t\n",
        "R = np.diag([\n",
        "             1.0,   # variance of x position observation\n",
        "             1.0    # variance of y position observation\n",
        "             ]) ** 2"
      ],
      "execution_count": 3,
      "outputs": []
    },
    {
      "cell_type": "markdown",
      "metadata": {
        "id": "a7aQ7BBIc0DU"
      },
      "source": [
        "#### Noises"
      ]
    },
    {
      "cell_type": "code",
      "metadata": {
        "id": "mzc4-wr_9vLn"
      },
      "source": [
        "INPUT_NOISE = np.diag([\n",
        "                       1.0,\n",
        "                       np.deg2rad(30.0)\n",
        "                       ]) ** 2\n",
        "GPS_NOISE = np.diag([0.5, 0.5]) ** 2"
      ],
      "execution_count": 4,
      "outputs": []
    },
    {
      "cell_type": "markdown",
      "metadata": {
        "id": "wOZQ7SWFEl0-"
      },
      "source": [
        "### Simulation Input"
      ]
    },
    {
      "cell_type": "code",
      "metadata": {
        "id": "iYGQrhoR91Ke"
      },
      "source": [
        "def calc_input():\n",
        "    v = 1.0  # [m/s]\n",
        "    yawrate = 0.1  # [rad/s]\n",
        "    u = np.array([[v], [yawrate]])\n",
        "    return u"
      ],
      "execution_count": 5,
      "outputs": []
    },
    {
      "cell_type": "code",
      "metadata": {
        "id": "caKrY2Cb930d"
      },
      "source": [
        "def observation(xTrue, xd, u):\n",
        "    xTrue = motion_model(xTrue, u)\n",
        "\n",
        "    # add noise to gps x-y\n",
        "    z = observation_model(xTrue) + GPS_NOISE @ np.random.randn(2, 1)\n",
        "\n",
        "    # add noise to input\n",
        "    ud = u + INPUT_NOISE @ np.random.randn(2, 1)\n",
        "\n",
        "    xd = motion_model(xd, ud)\n",
        "\n",
        "    return xTrue, z, xd, ud"
      ],
      "execution_count": 6,
      "outputs": []
    },
    {
      "cell_type": "markdown",
      "metadata": {
        "id": "SqyveSVVB_C1"
      },
      "source": [
        "### Motion Model"
      ]
    },
    {
      "cell_type": "markdown",
      "metadata": {
        "id": "3dH00LQvEGYe"
      },
      "source": [
        "The robot model is \n",
        "\n",
        "$$ \\dot{x} = vcos(\\phi)$$\n",
        "\n",
        "$$ \\dot{y} = vsin((\\phi)$$\n",
        "\n",
        "$$ \\dot{\\phi} = \\omega$$\n",
        "\n",
        "\n",
        "So, the motion model is\n",
        "\n",
        "$$\\textbf{x}_{t+1} = A\\textbf{x}_t+B\\textbf{u}_t$$\n",
        "\n",
        "where\n",
        "\n",
        "$\\begin{equation*}\n",
        "A=\n",
        "\\begin{bmatrix}\n",
        "1 & 0 & 0 & 0\\\\\n",
        "0 & 1 & 0 & 0\\\\\n",
        "0 & 0 & 1 & 0 \\\\\n",
        "0 & 0 & 0 & 0 \\\\\n",
        "\\end{bmatrix}\n",
        "\\end{equation*}$\n",
        "\n",
        "$\\begin{equation*}\n",
        "B=\n",
        "\\begin{bmatrix}\n",
        "cos(\\phi)dt & 0\\\\\n",
        "sin(\\phi)dt & 0\\\\\n",
        "0 & dt\\\\\n",
        "1 & 0\\\\\n",
        "\\end{bmatrix}\n",
        "\\end{equation*}$\n",
        "\n",
        "$dt$ is a time interval."
      ]
    },
    {
      "cell_type": "code",
      "metadata": {
        "id": "uG1HeZjVEHbY"
      },
      "source": [
        "def motion_model(x, u):\n",
        "    A = np.array([[1.0, 0, 0, 0],\n",
        "                  [0, 1.0, 0, 0],\n",
        "                  [0, 0, 1.0, 0],\n",
        "                  [0, 0, 0, 0]])\n",
        "\n",
        "    B = np.array([[DT * math.cos(x[2, 0]), 0],\n",
        "                  [DT * math.sin(x[2, 0]), 0],\n",
        "                  [0.0, DT],\n",
        "                  [1.0, 0.0]])\n",
        "\n",
        "    x = A @ x + B @ u\n",
        "\n",
        "    return x"
      ],
      "execution_count": 7,
      "outputs": []
    },
    {
      "cell_type": "markdown",
      "metadata": {
        "id": "Rvm5vA0XAthi"
      },
      "source": [
        "Jacobian matrix of $A$ is\n",
        "\n",
        "$\\begin{equation*}\n",
        "J_A=\n",
        "\\begin{bmatrix}\n",
        "\\frac{dx}{dx}& \\frac{dx}{dy} & \\frac{dx}{d\\phi} &  \\frac{dx}{dv}\\\\\n",
        "\\frac{dy}{dx}& \\frac{dy}{dy} & \\frac{dy}{d\\phi} &  \\frac{dy}{dv}\\\\\n",
        "\\frac{d\\phi}{dx}& \\frac{d\\phi}{dy} & \\frac{d\\phi}{d\\phi} &  \\frac{d\\phi}{dv}\\\\\n",
        "\\frac{dv}{dx}& \\frac{dv}{dy} & \\frac{dv}{d\\phi} &  \\frac{dv}{dv}\\\\\n",
        "\\end{bmatrix}\n",
        "\\end{equation*}$\n",
        "\n",
        "$\\begin{equation*}\n",
        "J_A=\n",
        "\\begin{bmatrix}\n",
        "1& 0 & -v sin(\\phi)dt &  cos(\\phi)dt\\\\\n",
        "0 & 1 & v cos(\\phi)dt & sin(\\phi) dt\\\\\n",
        "0 & 0 & 1 & 0\\\\\n",
        "0 & 0 & 0 & 1\\\\\n",
        "\\end{bmatrix}\n",
        "\\end{equation*}$"
      ]
    },
    {
      "cell_type": "code",
      "metadata": {
        "id": "lAEnjSmv9_RQ"
      },
      "source": [
        "def jacob_A(x, u):\n",
        "    \"\"\"\n",
        "    Jacobian of Motion Model\n",
        "\n",
        "    motion model\n",
        "    x_{t+1} = x_t+v*dt*cos(yaw)\n",
        "    y_{t+1} = y_t+v*dt*sin(yaw)\n",
        "    yaw_{t+1} = yaw_t+omega*dt\n",
        "    v_{t+1} = v{t}\n",
        "    so\n",
        "    dx/dyaw = -v*dt*sin(yaw)\n",
        "    dx/dv = dt*cos(yaw)\n",
        "    dy/dyaw = v*dt*cos(yaw)\n",
        "    dy/dv = dt*sin(yaw)\n",
        "    \"\"\"\n",
        "    yaw = x[2, 0]\n",
        "    v = u[0, 0]\n",
        "    jA = np.array([\n",
        "        [1.0, 0.0, -DT * v * math.sin(yaw), DT * math.cos(yaw)],\n",
        "        [0.0, 1.0, DT * v * math.cos(yaw), DT * math.sin(yaw)],\n",
        "        [0.0, 0.0, 1.0, 0.0],\n",
        "        [0.0, 0.0, 0.0, 1.0]])\n",
        "\n",
        "    return jA"
      ],
      "execution_count": 8,
      "outputs": []
    },
    {
      "cell_type": "markdown",
      "metadata": {
        "id": "UJOmvuUWCEm_"
      },
      "source": [
        "### Observation Model"
      ]
    },
    {
      "cell_type": "markdown",
      "metadata": {
        "id": "MvbslepZENbM"
      },
      "source": [
        "The robot can get x-y position infomation from GPS.\n",
        "\n",
        "So GPS Observation model is\n",
        "\n",
        "$$\\textbf{z}_{t} = H\\textbf{x}_t$$\n",
        "\n",
        "where\n",
        "\n",
        "$\\begin{equation*}\n",
        "H=\n",
        "\\begin{bmatrix}\n",
        "1 & 0 & 0& 0\\\\\n",
        "0 & 1 & 0& 0\\\\\n",
        "\\end{bmatrix}\n",
        "\\end{equation*}$"
      ]
    },
    {
      "cell_type": "code",
      "metadata": {
        "id": "4uewTeemEMqG"
      },
      "source": [
        "def observation_model(x):\n",
        "    H = np.array([\n",
        "        [1, 0, 0, 0],\n",
        "        [0, 1, 0, 0]\n",
        "    ])\n",
        "\n",
        "    z = H @ x\n",
        "\n",
        "    return z"
      ],
      "execution_count": 9,
      "outputs": []
    },
    {
      "cell_type": "markdown",
      "metadata": {
        "id": "v_48KXfWBwTp"
      },
      "source": [
        "Jacobian matrix of $H$ is\n",
        "\n",
        "$\\begin{equation*}\n",
        "J_H=\n",
        "\\begin{bmatrix}\n",
        "\\frac{dx}{dx}& \\frac{dx}{dy} & \\frac{dx}{d\\phi} &  \\frac{dx}{dv}\\\\\n",
        "\\frac{dy}{dx}& \\frac{dy}{dy} & \\frac{dy}{d\\phi} &  \\frac{dy}{dv}\\\\\n",
        "\\end{bmatrix}\n",
        "\\end{equation*}$\n",
        "\n",
        "$\\begin{equation*}\n",
        "J_H=\n",
        "\\begin{bmatrix}\n",
        "1& 0 & 0 & 0\\\\\n",
        "0 & 1 & 0 & 0\\\\\n",
        "\\end{bmatrix}\n",
        "\\end{equation*}$\n",
        "\n"
      ]
    },
    {
      "cell_type": "code",
      "metadata": {
        "id": "Y5NTkETT-Adk"
      },
      "source": [
        "def jacob_h():\n",
        "    # Jacobian of Observation Model\n",
        "    jH = np.array([\n",
        "        [1, 0, 0, 0],\n",
        "        [0, 1, 0, 0]\n",
        "    ])\n",
        "\n",
        "    return jH"
      ],
      "execution_count": 10,
      "outputs": []
    },
    {
      "cell_type": "markdown",
      "metadata": {
        "id": "q6igol3GCc7y"
      },
      "source": [
        "### Extended Kalman Filter (EKF) Algorithm"
      ]
    },
    {
      "cell_type": "markdown",
      "metadata": {
        "id": "rrOIIKa7Cf5n"
      },
      "source": [
        "Localization using EKF algorithm is as follows,\n",
        "</br></br>\n",
        "\n",
        "**Prediction**\n",
        "\n",
        "$x_{Pred} = Ax_t+Bu_t  \\hspace{1.5cm}$ Predicted state estimate\n",
        "\n",
        "$P_{Pred} = J_AP_t J_A^T + Q  \\hspace{1cm}$ Predicted covariance estimate\n",
        "\n",
        "</br>\n",
        "\n",
        "**Update**\n",
        "\n",
        "$z_{Pred} = Hx_{Pred}  \\hspace{2.3cm}$ Predicted observation \n",
        "\n",
        "$y = z - z_{Pred}  \\hspace{2.8cm}$ Innovation or measurement residual\n",
        "\n",
        "$S = J_H P_{Pred}.J_H^T + R  \\hspace{0.9cm}$ Innovation (or residual) covariance\n",
        "\n",
        "$K = P_{Pred}.J_H^T S^{-1}  \\hspace{1.5cm}$ Near-optimal Kalman gain\n",
        "\n",
        "$x_{t+1} = x_{Pred} + Ky    \\hspace{1.5cm}$ Updated state estimate\n",
        "\n",
        "$P_{t+1} = ( I - K J_H) P_{Pred}  \\hspace{0.35cm}$ Updated covariance estimate"
      ]
    },
    {
      "cell_type": "code",
      "metadata": {
        "id": "jwFzLm_i-CIm"
      },
      "source": [
        "def ekf_estimation(xEst, PEst, z, u):\n",
        "    #  Prediction\n",
        "    xPred = motion_model(xEst, u)\n",
        "    jA = jacob_A(xEst, u)\n",
        "    PPred = jA @ PEst @ jA.T + Q\n",
        "\n",
        "    #  Update\n",
        "    jH = jacob_h()\n",
        "    zPred = observation_model(xPred)\n",
        "    y = z - zPred\n",
        "    S = jH @ PPred @ jH.T + R\n",
        "    K = PPred @ jH.T @ np.linalg.inv(S)\n",
        "    xEst = xPred + K @ y\n",
        "    PEst = (np.eye(len(xEst)) - K @ jH) @ PPred\n",
        "    return xEst, PEst"
      ],
      "execution_count": 11,
      "outputs": []
    },
    {
      "cell_type": "markdown",
      "metadata": {
        "id": "jb9il40zC1Tz"
      },
      "source": [
        "### Simulation Visualization"
      ]
    },
    {
      "cell_type": "code",
      "metadata": {
        "id": "ZQ5GfkzW-D6J"
      },
      "source": [
        "def plot_covariance_ellipse(xEst, PEst):\n",
        "    Pxy = PEst[0:2, 0:2]\n",
        "    eigval, eigvec = np.linalg.eig(Pxy)\n",
        "\n",
        "    if eigval[0] >= eigval[1]:\n",
        "        bigind = 0\n",
        "        smallind = 1\n",
        "    else:\n",
        "        bigind = 1\n",
        "        smallind = 0\n",
        "\n",
        "    t = np.arange(0, 2 * math.pi + 0.1, 0.1)\n",
        "    a = math.sqrt(eigval[bigind])\n",
        "    b = math.sqrt(eigval[smallind])\n",
        "    x = [a * math.cos(it) for it in t]\n",
        "    y = [b * math.sin(it) for it in t]\n",
        "    angle = math.atan2(eigvec[1, bigind], eigvec[0, bigind])\n",
        "    rot = Rot.from_euler('z', angle).as_matrix()[0:2, 0:2]\n",
        "    fx = rot @ (np.array([x, y]))\n",
        "    px = np.array(fx[0, :] + xEst[0, 0]).flatten()\n",
        "    py = np.array(fx[1, :] + xEst[1, 0]).flatten()\n",
        "    plt.plot(px, py, \"--r\")"
      ],
      "execution_count": 12,
      "outputs": []
    },
    {
      "cell_type": "code",
      "metadata": {
        "id": "jJAFYkEEDQLP"
      },
      "source": [
        "def plot_position_2d():\n",
        "    plt.figure(figsize=(9,6), dpi=100)\n",
        "    plt.cla()\n",
        "    plt.title(\"Trajectory Plot of Various Estimation\")\n",
        "    plt.xlabel(\"x (m)\")\n",
        "    plt.ylabel(\"y (m)\")\n",
        "    # for stopping simulation with the esc key.\n",
        "    # plt.gcf().canvas.mpl_connect('key_release_event',\n",
        "    #         lambda event: [exit(0) if event.key == 'escape' else None])\n",
        "    plt.plot(hz[0, :], hz[1, :], \".g\", label=\"observation\")\n",
        "    plt.plot(hxTrue[0, :].flatten(),\n",
        "              hxTrue[1, :].flatten(), ls=\"-\", color=\"blue\", label=\"ground truth\")\n",
        "    plt.plot(hxDR[0, :].flatten(),\n",
        "              hxDR[1, :].flatten(), ls=\"-\", color=\"orange\", label=\"dead reckoning\")\n",
        "    plt.plot(hxEst[0, :].flatten(),\n",
        "              hxEst[1, :].flatten(), ls=\"-\", color=\"red\", label=\"EKF\")\n",
        "    plot_covariance_ellipse(xEst, PEst)\n",
        "    plt.axis(\"equal\")\n",
        "    plt.grid(True)\n",
        "    plt.legend()\n",
        "    plt.pause(0.001)"
      ],
      "execution_count": 24,
      "outputs": []
    },
    {
      "cell_type": "markdown",
      "metadata": {
        "id": "_jD2Ss8wITaJ"
      },
      "source": [
        "### Simulation Initial Value"
      ]
    },
    {
      "cell_type": "code",
      "metadata": {
        "id": "UVjBHTJ8IXDs"
      },
      "source": [
        "time = 0.0\n",
        "\n",
        "# State Vector [x y yaw v]'\n",
        "xEst = np.zeros((4, 1))\n",
        "xTrue = np.zeros((4, 1))\n",
        "PEst = np.eye(4)\n",
        "\n",
        "xDR = np.zeros((4, 1))  # Dead reckoning"
      ],
      "execution_count": 14,
      "outputs": []
    },
    {
      "cell_type": "markdown",
      "metadata": {
        "id": "y5rq_8ziIkyD"
      },
      "source": [
        "### Simulation Log"
      ]
    },
    {
      "cell_type": "code",
      "metadata": {
        "id": "teE6R2s2IqSl"
      },
      "source": [
        "# history\n",
        "hxEst = xEst\n",
        "hxTrue = xTrue\n",
        "hxDR = xTrue\n",
        "hz = np.zeros((2, 1))"
      ],
      "execution_count": 15,
      "outputs": []
    },
    {
      "cell_type": "markdown",
      "metadata": {
        "id": "on54cpGpCItt"
      },
      "source": [
        "### Simulation Process"
      ]
    },
    {
      "cell_type": "code",
      "metadata": {
        "colab": {
          "base_uri": "https://localhost:8080/"
        },
        "id": "unCCgBxPuocI",
        "outputId": "7d3c464b-31e7-4d05-f1f7-61731824f739"
      },
      "source": [
        "print(\"Simulation started.\")\n",
        "\n",
        "while time <= SIM_TIME:\n",
        "    time += DT\n",
        "    u = calc_input()\n",
        "\n",
        "    xTrue, z, xDR, ud = observation(xTrue, xDR, u)\n",
        "\n",
        "    xEst, PEst = ekf_estimation(xEst, PEst, z, ud)\n",
        "\n",
        "    # store data history\n",
        "    hxEst = np.hstack((hxEst, xEst))\n",
        "    hxDR = np.hstack((hxDR, xDR))\n",
        "    hxTrue = np.hstack((hxTrue, xTrue))\n",
        "    hz = np.hstack((hz, z))\n",
        "\n",
        "    if show_live_plot:\n",
        "        plot_position_2d()"
      ],
      "execution_count": 16,
      "outputs": [
        {
          "output_type": "stream",
          "text": [
            "Simulation started.\n"
          ],
          "name": "stdout"
        }
      ]
    },
    {
      "cell_type": "markdown",
      "metadata": {
        "id": "nPnvyFYZIyML"
      },
      "source": [
        "### Simulation Result"
      ]
    },
    {
      "cell_type": "code",
      "metadata": {
        "colab": {
          "base_uri": "https://localhost:8080/",
          "height": 555
        },
        "id": "SGhaytG1Gc28",
        "outputId": "1ef31212-5d76-47af-cc87-f34ec7bf5b8f"
      },
      "source": [
        "plot_position_2d()"
      ],
      "execution_count": 25,
      "outputs": [
        {
          "output_type": "display_data",
          "data": {
            "image/png": "[encoded data removed]",
            "text/plain": [
              "<Figure size 900x600 with 1 Axes>"
            ]
          },
          "metadata": {
            "needs_background": "light"
          }
        }
      ]
    }
  ]
}